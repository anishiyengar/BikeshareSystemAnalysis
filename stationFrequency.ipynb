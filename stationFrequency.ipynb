{
 "cells": [
  {
   "cell_type": "code",
   "execution_count": 8,
   "metadata": {},
   "outputs": [],
   "source": [
    "mbtaStations = ['Allston','Allston','Allston','Allston','Back Bay','Back Bay','Back Bay','Beacon Hill','Brighton','Brighton','Brighton','Brighton','Brighton','Brighton','Brighton','Brighton','Brighton','Charlestown','Charlestown','Chinatown','Chinatown','Dorchester','Dorchester','Dorchester','Dorchester','Dorchester','Dorchester','Dorchester','Downtown','Downtown','Downtown','Downtown','Downtown','Downtown','Downtown','Downtown','Downtown','Downtown','East Boston','East Boston','East Boston','East Boston','East Boston','East Boston','East Boston','East Boston','East Boston','East Boston','Fenway/Kenmore','Fenway/Kenmore','Fenway/Kenmore','Fenway/Kenmore','Fenway/Kenmore','Fenway/Kenmore','Fenway/Kenmore','Fenway/Kenmore','Fenway/Kenmore','Fenway/Kenmore','Fenway/Kenmore','Fenway/Kenmore','Fenway/Kenmore','Jamaica Plain','Jamaica Plain','Jamaica Plain','Jamaica Plain','Jamaica Plain','Mattapan','Mission Hill','Mission Hill','Mission Hill','Mission Hill','Mission Hill','Mission Hill','Roxbury','Roxbury','Roxbury','Roxbury','Roxbury','Roxbury','Roxbury','Roxbury','Roxbury','Roxbury','Roxbury','South Boston','South Boston','South Boston','South Boston','South Boston','South Boston','South Boston','South Boston','South Boston','South Boston','South Boston','West End','West End','West End','Braintree','Brookline','Brookline','Brookline','Brookline','Brookline','Brookline','Brookline','Brookline','Brookline','Brookline','Brookline','Brookline','Brookline','Brookline','Brookline','Coolidge Corner','Central Square','Harvard Square','Kendall Square','Lechmere Square','North Cambridge','Porter Square','Chelsea','Chelsea','Chelsea','Chelsea/Bellingham Square','Malden','Malden','Medford','Milton','Milton','Milton','Milton','Auburndale','Chestnut Hill','Newton Centre','Newton Highlands','Newton Lower Falls','Newton Upper Falls','Waban','Quincy/North Quincy','Quincy/Quincy Center','Quincy/South Quincy','Quincy/Wollaston','Revere','Revere','Revere/Beachmont','Assembly Square','Davis Square']\n",
    "\n",
    "hubwayStops = ['Roxbury','Brighton','Jamaica Plain','Seaport District','Allston','Boston','Fenway/Kenmore','Medical Center Area','Allston','Lower Allston','Fenway/Kenmore','South End','Downtown','Allston','Brighton','Downtown','Brighton','Allston','Charlestown','Boston','Downtown','Financial District','Central-Maverick Square / Paris Street','East Boston','Jeffries Point','East Boston','Central-Maverick Square / Paris Street','Jeffries Point','Central-Maverick Square / Paris Street','East Boston','East Boston','Central-Maverick Square / Paris Street','Back Bay West','Harrison Lenox','Medical Center Area','Waterfront','Back Bay','Medical Center Area','Seaport District','Downtown','Fenway/Kenmore','West Fens','Fenway/Kenmore','Boston','Seaport District','West Fens','Back Bay','Roxbury','Fenway/Kenmore','Fenway/Kenmore','Fenway/Kenmore','Roxbury','Roxbury','Dorchester','South End','Roxbury','Roxbury','Boston','Roxbury','Dorchester','South End','Roxbury','South End','Back Bay East','Columbus','South End','South End','Back Bay','Back Bay West','Fort Point','Fort Point','Columbus Park / Andrew Square','Dorchester','Dorchester','South Boston','South Boston','Dorchester','Dorchester','Seaport District','Seaport District','Dorchester','South Boston','Fort Point','South End','Roxbury','South Boston','D Street / West Broadway','Roxbury','Dorchester','Seaport District','Dorchester','Seaport District','Beacon Hill','Boston','South End','North End','Downtown Crossing','Back Bay East','North End','Boston','Downtown','Downtown','North End','Downtown','Downtown','Back Bay East','Theatre District','Boston','Beacon Hill','Boston','Seaport District','Theatre District','Charlestown','Charlestown','Downtown','Charlestown','Beacon Hill','Charlestown','Back Bay East','Oak Square','Oak Square','Brighton','Jamaica Plain','Jamaica Plain','Roxbury','Jamaica Plain','Jamaica Plain','Jamaica Plain','North Brookline','Brookline','North Brookline','Brookline Village','Brookline','East Cambridge','The Port','Cambridge','Area 2/MIT','Area 2/MIT','Area 2/MIT','Wellington-Harrington','The Port','Mid-Cambridge','Cambridge','Mid-Cambridge','Mid-Cambridge','Riverside','West Cambridge','West Cambridge','Mid-Cambridge','East Cambridge','Agassiz','Cambridge','Cambridgeport','Agassiz','Neighborhood Nine','North Cambridge','Mid-Cambridge','East Cambridge','Agassiz','Cambridgeport','Neighborhood Nine','East Cambridge','North Cambridge','East Cambridge','North Cambridge','Area 2/MIT','Riverside','Agassiz','Cambridgeport','Cambridgeport','Area 2/MIT','West Cambridge','Boston','North Cambridge','Cambridgeport','East Cambridge','East Cambridge','Mid-Cambridge','West Cambridge','The Port','Winter Hill','Prospect Hill','Ward Two','Spring Hill','Spring Hill','Davis Square','Somerville','Tufts','Powder House Square','Teele Square','Magoun Square','East Somerville','Fenway/Kenmore']\n",
    "\n",
    "hubwayStopsCounts = {}\n",
    "mbtaStationsCounts = {}\n",
    "\n",
    "def hubwayStopsCounting (listOf):\n",
    "    for i in hubwayStops:\n",
    "        if i in hubwayStopsCounts:\n",
    "            hubwayStopsCounts[i] += 1\n",
    "        else:\n",
    "            hubwayStopsCounts[i] = 1\n",
    "\n",
    "def mbtaStationsCounting (listOf):\n",
    "    for i in mbtaStations:\n",
    "        if i in mbtaStationsCounts:\n",
    "            mbtaStationsCounts[i] += 1\n",
    "        else:\n",
    "            mbtaStationsCounts[i] = 1\n",
    "\n",
    "\n",
    "for i in hubwayStopsCounts:\n",
    "    print(i + hubwayStopsCounts[i])\n",
    "\n",
    "for g in mbtaStationsCounts:\n",
    "    print(i + mbtaStationsCounts[i])\n"
   ]
  }
 ],
 "metadata": {
  "kernelspec": {
   "display_name": "Python 3",
   "language": "python",
   "name": "python3"
  },
  "language_info": {
   "codemirror_mode": {
    "name": "ipython",
    "version": 3
   },
   "file_extension": ".py",
   "mimetype": "text/x-python",
   "name": "python",
   "nbconvert_exporter": "python",
   "pygments_lexer": "ipython3",
   "version": "3.6.3"
  }
 },
 "nbformat": 4,
 "nbformat_minor": 2
}
